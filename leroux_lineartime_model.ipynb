{
 "cells": [
  {
   "cell_type": "code",
   "execution_count": 1,
   "metadata": {},
   "outputs": [
    {
     "name": "stdout",
     "output_type": "stream",
     "text": [
      "Running on PyMC v4.1.3\n"
     ]
    },
    {
     "name": "stderr",
     "output_type": "stream",
     "text": [
      "/Users/conor/miniconda3/envs/pymc_non_dev/lib/python3.10/site-packages/pymc/sampling_jax.py:36: UserWarning: This module is experimental.\n",
      "  warnings.warn(\"This module is experimental.\")\n"
     ]
    }
   ],
   "source": [
    "import aesara \n",
    "import aesara.tensor as at\n",
    "import arviz as az\n",
    "import matplotlib.pyplot as plt\n",
    "import numpy as np \n",
    "import pymc as pm \n",
    "import xarray as xr \n",
    "import pandas as pd \n",
    "import pymc.sampling_jax\n",
    "import numpyro \n",
    "\n",
    "print(f\"Running on PyMC v{pm.__version__}\")"
   ]
  },
  {
   "cell_type": "markdown",
   "metadata": {},
   "source": [
    "#### Data: loading in the Scottish lip cancer data"
   ]
  },
  {
   "cell_type": "code",
   "execution_count": 2,
   "metadata": {},
   "outputs": [],
   "source": [
    "df_scot_cancer = pd.read_csv(pm.get_data(\"scotland_lips_cancer.csv\"))\n",
    "\n",
    "# observed cancer counts\n",
    "y = df_scot_cancer[\"CANCER\"].values\n",
    "\n",
    "# number of observations\n",
    "N = len(y)\n",
    "\n",
    "# expected cancer counts E for each county: this is calculated using age-standardized rates of the local population\n",
    "E = df_scot_cancer[\"CEXP\"].values\n",
    "logE = np.log(E)\n",
    "\n",
    "# proportion of the population engaged in agriculture, forestry, or fishing\n",
    "x = df_scot_cancer[\"AFF\"].values / 10.0\n",
    "\n",
    "# spatial adjacency information: column `ADJ` contains list entries which are preprocessed to obtain adj as a list of lists\n",
    "adj = (\n",
    "    df_scot_cancer[\"ADJ\"].apply(lambda x: [int(val) for val in x.strip(\"][\").split(\",\")]).to_list()\n",
    ")\n",
    "\n",
    "# change to Python indexing (i.e. -1)\n",
    "for i in range(len(adj)):\n",
    "    for j in range(len(adj[i])):\n",
    "        adj[i][j] = adj[i][j] - 1\n",
    "\n",
    "# storing the adjacency matrix as a two-dimensional np.array\n",
    "adj_matrix = np.zeros((N, N), dtype=\"int32\")\n",
    "\n",
    "for area in range(N):\n",
    "    adj_matrix[area, adj[area]] = 1"
   ]
  },
  {
   "cell_type": "code",
   "execution_count": 3,
   "metadata": {},
   "outputs": [],
   "source": [
    "# getting the necessary information to use for a spatial model specification \n",
    "N_edges = (adj_matrix == 1).sum()\n",
    "node1 = np.where(adj_matrix == 1)[0] \n",
    "node2 = np.where(adj_matrix == 1)[1] "
   ]
  },
  {
   "cell_type": "markdown",
   "metadata": {},
   "source": [
    "# Expanding to a spatio-temporal Leroux model\n",
    "\n",
    "Here I am extrapolating the Scottish Lip Cancer data set through a sequence to create a synthetic spatio-temporal dataset."
   ]
  },
  {
   "cell_type": "code",
   "execution_count": 4,
   "metadata": {},
   "outputs": [],
   "source": [
    "# linear rate through time \n",
    "multipler = np.arange(1.0, 1.3, step=0.05)\n",
    "T = len(multipler)\n",
    "\n",
    "# empty arrays \n",
    "y_time = np.zeros((N, T))\n",
    "x_time = np.zeros((N, T))\n",
    "log_offset_time = np.zeros((N, T))\n",
    "\n",
    "for i in range(N):\n",
    "    # each area has its own random slope through time \n",
    "    random_slope = 1 + np.random.normal(loc=0, scale=0.15, size=(1, ))\n",
    "    for j in range(T):\n",
    "        # new data observation \n",
    "        y_time[i, j] = np.random.poisson(lam=y[i]*multipler[j]*random_slope, size=(1, ))\n",
    "        x_time[i, j] = np.random.normal(loc=x[i], scale=0.1, size=(1, ))\n",
    "        log_offset_time[i, j] = np.random.normal(loc=logE[i]*multipler[j], scale=0.1, size=(1, ))\n",
    "\n",
    "# differencing the time dimension         \n",
    "t_diff = np.zeros((N, T))\n",
    "for i in range(N):\n",
    "    t_diff[i, ] = np.arange(T) - 3"
   ]
  },
  {
   "cell_type": "code",
   "execution_count": 5,
   "metadata": {},
   "outputs": [],
   "source": [
    "# creating the coordinates for the spatio-temporal model\n",
    "st_coords = {\"num_times\": np.arange(T), \n",
    "             \"num_areas\": np.arange(N), \n",
    "             \"dummy\": np.arange(1)}"
   ]
  },
  {
   "cell_type": "markdown",
   "metadata": {},
   "source": [
    "####  Leroux model\n",
    "\n",
    "We now use a Leroux model such that the random effect structure for each area $i$ is $\\psi_i=\\phi_i$, where the vector $\\boldsymbol{\\phi}$ is distributed according to \n",
    "\\begin{align}\n",
    "\\boldsymbol{\\phi}\\sim\\text{Normal}(0, [\\tau^2\\rho(\\mathbf{D}-\\mathbf{W}) + (1-\\rho)\\mathbf{I})\\big ]^{-1}). \n",
    "\\end{align} \n",
    "When $\\rho=1$, the Leroux prior is equal to an ICAR prior, and when $\\rho=0$, it is equal to an independent random effect. "
   ]
  },
  {
   "cell_type": "code",
   "execution_count": 6,
   "metadata": {},
   "outputs": [],
   "source": [
    "# creating the pairwise specification for the Leroux model\n",
    "def pairwise_diff_leroux(rho, phi, node1, node2):\n",
    "    return -0.5 * rho * ((phi[node1]-phi[node2]) ** 2).sum()\n",
    "# creating the square sum potential specification \n",
    "def square_sum(rho, phi):\n",
    "    return -0.5 * (1-rho) * (phi ** 2).sum()"
   ]
  },
  {
   "cell_type": "markdown",
   "metadata": {},
   "source": [
    "#### Linear Time Spatio-temporal Conditional Autoregressive model\n",
    "\n",
    "For this this model, data from area $i$ at time $t$ is modelled as \n",
    "\\begin{align}\n",
    "y_{i, t} &\\sim \\text{Poisson}(\\mu_{i, t})\\\\\n",
    "\\log \\mu_{i, t} &= \\beta_0 + \\beta_1 x_{i, t} + \\log E_{i, t} +\\psi_{i, t},\n",
    "\\end{align}\n",
    "where $\\psi_{i, t}$ is the random effect, modelled as \n",
    "\\begin{align}\n",
    "\\psi_{i, t}=\\mu+\\phi_{i}+(\\alpha+\\delta_i)\\frac{t-\\bar{t}}{T}, \n",
    "\\end{align}\n",
    "where both the $\\boldsymbol{\\phi}$'s and $\\boldsymbol{\\delta}$'s have a Leroux prior. Effectively, this is a hierarchical model with random intercepts and random slopes, except that these two terms are \"smoothed\" over by the random intercepts and slopes respectively of their directly local neighbours. "
   ]
  },
  {
   "cell_type": "code",
   "execution_count": 7,
   "metadata": {},
   "outputs": [],
   "source": [
    "with pm.Model(coords=st_coords) as st_leroux_model:\n",
    "    # spatial intercept parameters \n",
    "    # precision priors, transform to standard deviation \n",
    "    tau_phi = pm.Gamma(\"tau_phi\", alpha=1, beta=1)\n",
    "    sigma_phi = pm.Deterministic(\"sigma_phi\", 1/at.sqrt(tau_phi))\n",
    "    # spatial smoothing prior for the intercepts\n",
    "    rho_intercept = pm.Beta(\"rho_intercept\",  alpha=1, beta=1)\n",
    "    # spatial intercept random effects \n",
    "    phi = pm.Flat(\"phi\", dims=(\"num_areas\", \"dummy\"))\n",
    "    pm.Potential(\"spatial_diff_intercept\", pairwise_diff_leroux(rho_intercept, phi, node1, node2))\n",
    "    pm.Potential(\"square_sum_intercept\", square_sum(rho_intercept, phi))\n",
    "\n",
    "    # spatial slope parameters \n",
    "    # precision priors, transform to standard deviation\n",
    "    tau_delta = pm.Gamma(\"tau_delta\", alpha=1, beta=1)\n",
    "    sigma_delta = pm.Deterministic(\"sigma_delta\", 1/at.sqrt(tau_delta))\n",
    "    # spatial smoothing prior for the slopes \n",
    "    rho_slope = pm.Beta(\"rho_slope\", alpha=1, beta=1)\n",
    "    # spatial slope random effects\n",
    "    delta = pm.Flat(\"delta\", dims=(\"num_areas\", \"dummy\"))\n",
    "    pm.Potential(\"spatial_diff_slope\", pairwise_diff_leroux(rho_slope, delta, node1, node2))\n",
    "    pm.Potential(\"square_sum_slope\", square_sum(rho_slope, delta))\n",
    "    \n",
    "    # constraint on the random effects\n",
    "    zero_constraint = pm.Normal.dist(mu=0.0, sigma=np.sqrt(0.001))\n",
    "    pm.Potential(\"zero_sum_phi\", pm.logp(zero_constraint, pm.math.sum(phi))) \n",
    "    pm.Potential(\"zero_sum_delta\", pm.logp(zero_constraint, pm.math.sum(delta)))\n",
    "\n",
    "    # regression coefficient priors \n",
    "    beta0 = pm.Normal(\"beta0\", mu=0, sigma=5)\n",
    "    beta1 = pm.Normal(\"beta1\", mu=0, sigma=5) \n",
    "    # prior for alpha: overall slope over time \n",
    "    alpha = pm.Normal(\"alpha\", mu=0, sigma=500)\n",
    "\n",
    "    # linear predictor \n",
    "    eta = pm.Deterministic(\"eta\", log_offset_time + beta0 + beta1*x_time + phi*sigma_phi + (alpha+delta*sigma_delta)*t_diff, dims=(\"num_areas\", \"num_times\")) \n",
    "\n",
    "    # likelihood\n",
    "    obs = pm.Poisson(\"obs\", at.exp(eta), observed=y_time, dims=(\"num_areas\", \"num_times\"))"
   ]
  },
  {
   "cell_type": "code",
   "execution_count": 8,
   "metadata": {},
   "outputs": [
    {
     "name": "stderr",
     "output_type": "stream",
     "text": [
      "Auto-assigning NUTS sampler...\n",
      "INFO:pymc:Auto-assigning NUTS sampler...\n",
      "Initializing NUTS using jitter+adapt_diag...\n",
      "INFO:pymc:Initializing NUTS using jitter+adapt_diag...\n",
      "Multiprocess sampling (4 chains in 4 jobs)\n",
      "INFO:pymc:Multiprocess sampling (4 chains in 4 jobs)\n",
      "NUTS: [tau_phi, rho_intercept, phi, tau_delta, rho_slope, delta, beta0, beta1, alpha]\n",
      "INFO:pymc:NUTS: [tau_phi, rho_intercept, phi, tau_delta, rho_slope, delta, beta0, beta1, alpha]\n"
     ]
    },
    {
     "data": {
      "text/html": [
       "\n",
       "    <div>\n",
       "        <style>\n",
       "            /* Turns off some styling */\n",
       "            progress {\n",
       "                /* gets rid of default border in Firefox and Opera. */\n",
       "                border: none;\n",
       "                /* Needs to be in here for Safari polyfill so background images work as expected. */\n",
       "                background-size: auto;\n",
       "            }\n",
       "            .progress-bar-interrupted, .progress-bar-interrupted::-webkit-progress-bar {\n",
       "                background: #F44336;\n",
       "            }\n",
       "        </style>\n",
       "      <progress value='8000' class='' max='8000' style='width:300px; height:20px; vertical-align: middle;'></progress>\n",
       "      100.00% [8000/8000 03:42<00:00 Sampling 4 chains, 0 divergences]\n",
       "    </div>\n",
       "    "
      ],
      "text/plain": [
       "<IPython.core.display.HTML object>"
      ]
     },
     "metadata": {},
     "output_type": "display_data"
    },
    {
     "name": "stderr",
     "output_type": "stream",
     "text": [
      "/Users/conor/miniconda3/envs/pymc_non_dev/lib/python3.10/site-packages/scipy/stats/_continuous_distns.py:624: RuntimeWarning: overflow encountered in _beta_ppf\n",
      "  return _boost._beta_ppf(q, a, b)\n",
      "/Users/conor/miniconda3/envs/pymc_non_dev/lib/python3.10/site-packages/scipy/stats/_continuous_distns.py:624: RuntimeWarning: overflow encountered in _beta_ppf\n",
      "  return _boost._beta_ppf(q, a, b)\n",
      "/Users/conor/miniconda3/envs/pymc_non_dev/lib/python3.10/site-packages/scipy/stats/_continuous_distns.py:624: RuntimeWarning: overflow encountered in _beta_ppf\n",
      "  return _boost._beta_ppf(q, a, b)\n",
      "/Users/conor/miniconda3/envs/pymc_non_dev/lib/python3.10/site-packages/scipy/stats/_continuous_distns.py:624: RuntimeWarning: overflow encountered in _beta_ppf\n",
      "  return _boost._beta_ppf(q, a, b)\n",
      "Sampling 4 chains for 1_000 tune and 1_000 draw iterations (4_000 + 4_000 draws total) took 234 seconds.\n",
      "INFO:pymc:Sampling 4 chains for 1_000 tune and 1_000 draw iterations (4_000 + 4_000 draws total) took 234 seconds.\n"
     ]
    }
   ],
   "source": [
    "with st_leroux_model:\n",
    "    idata = pm.sample()"
   ]
  }
 ],
 "metadata": {
  "interpreter": {
   "hash": "f977084116a5d06351f0969c43dbc528856b1012f23a32e53dbf92034586142c"
  },
  "kernelspec": {
   "display_name": "Python 3.10.5 ('pymc_non_dev')",
   "language": "python",
   "name": "python3"
  },
  "language_info": {
   "codemirror_mode": {
    "name": "ipython",
    "version": 3
   },
   "file_extension": ".py",
   "mimetype": "text/x-python",
   "name": "python",
   "nbconvert_exporter": "python",
   "pygments_lexer": "ipython3",
   "version": "3.10.5"
  },
  "orig_nbformat": 4
 },
 "nbformat": 4,
 "nbformat_minor": 2
}
